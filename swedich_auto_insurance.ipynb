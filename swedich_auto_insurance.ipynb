{
  "nbformat": 4,
  "nbformat_minor": 0,
  "metadata": {
    "colab": {
      "name": "swedich-auto-insurance.ipynb",
      "provenance": [],
      "authorship_tag": "ABX9TyOTwblHnxFp/NAh50yBDspB",
      "include_colab_link": true
    },
    "kernelspec": {
      "name": "python3",
      "display_name": "Python 3"
    }
  },
  "cells": [
    {
      "cell_type": "markdown",
      "metadata": {
        "id": "view-in-github",
        "colab_type": "text"
      },
      "source": [
        "<a href=\"https://colab.research.google.com/github/emaudealtema/Deep_learning_repository/blob/master/swedich_auto_insurance.ipynb\" target=\"_parent\"><img src=\"https://colab.research.google.com/assets/colab-badge.svg\" alt=\"Open In Colab\"/></a>"
      ]
    },
    {
      "cell_type": "code",
      "metadata": {
        "id": "adjs2eueJ2zx"
      },
      "source": [
        "\r\n",
        "# k-fold cross-validation of base model for the auto insurance regression dataset\r\n",
        "from numpy import mean\r\n",
        "from numpy import std\r\n",
        "from pandas import read_csv\r\n",
        "from sklearn.model_selection import KFold\r\n",
        "from sklearn.preprocessing import PowerTransformer\r\n",
        "from sklearn.model_selection import train_test_split\r\n",
        "from sklearn.metrics import mean_absolute_error\r\n",
        "from tensorflow.keras import Sequential\r\n",
        "from tensorflow.keras.layers import Dense\r\n",
        "from matplotlib import pyplot\r\n",
        "from sklearn.preprocessing import MinMaxScaler"
      ],
      "execution_count": 34,
      "outputs": []
    },
    {
      "cell_type": "code",
      "metadata": {
        "id": "7arxKLPIJ51o"
      },
      "source": [
        "# load the dataset\r\n",
        "path = 'https://raw.githubusercontent.com/jbrownlee/Datasets/master/auto-insurance.csv'\r\n",
        "df = read_csv(path, header=None)"
      ],
      "execution_count": 35,
      "outputs": []
    },
    {
      "cell_type": "code",
      "metadata": {
        "colab": {
          "base_uri": "https://localhost:8080/"
        },
        "id": "5Zc7WNpN8L0M",
        "outputId": "c2c29646-5f86-47ab-d77b-8f979804c2b5"
      },
      "source": [
        "print(df.shape)"
      ],
      "execution_count": 36,
      "outputs": [
        {
          "output_type": "stream",
          "text": [
            "(63, 2)\n"
          ],
          "name": "stdout"
        }
      ]
    },
    {
      "cell_type": "code",
      "metadata": {
        "colab": {
          "base_uri": "https://localhost:8080/"
        },
        "id": "qEeHmN2D9Uoe",
        "outputId": "cbe2fb6d-5097-45af-d6a4-6f935ab1dfa0"
      },
      "source": [
        "#afficher les premières lignes du jeu de données\r\n",
        "print(df.head())"
      ],
      "execution_count": 37,
      "outputs": [
        {
          "output_type": "stream",
          "text": [
            "     0      1\n",
            "0  108  392.5\n",
            "1   19   46.2\n",
            "2   13   15.7\n",
            "3  124  422.2\n",
            "4   40  119.4\n"
          ],
          "name": "stdout"
        }
      ]
    },
    {
      "cell_type": "code",
      "metadata": {
        "colab": {
          "base_uri": "https://localhost:8080/"
        },
        "id": "gLkP9SnN9hUk",
        "outputId": "700c0e70-96bb-407e-f1fc-b5d109831884"
      },
      "source": [
        "#énumération des colonnes\r\n",
        "print(df.columns)"
      ],
      "execution_count": 38,
      "outputs": [
        {
          "output_type": "stream",
          "text": [
            "Int64Index([0, 1], dtype='int64')\n"
          ],
          "name": "stdout"
        }
      ]
    },
    {
      "cell_type": "code",
      "metadata": {
        "colab": {
          "base_uri": "https://localhost:8080/"
        },
        "id": "4shedbZ99nPq",
        "outputId": "1850c2c8-5ece-4b9f-b66d-53569759ee5f"
      },
      "source": [
        "#type de chaque colonne\r\n",
        "print(df.dtypes)"
      ],
      "execution_count": 39,
      "outputs": [
        {
          "output_type": "stream",
          "text": [
            "0      int64\n",
            "1    float64\n",
            "dtype: object\n"
          ],
          "name": "stdout"
        }
      ]
    },
    {
      "cell_type": "code",
      "metadata": {
        "colab": {
          "base_uri": "https://localhost:8080/"
        },
        "id": "waDCnZr495l8",
        "outputId": "d8bef291-75b4-400a-edc9-d5e3ee44417d"
      },
      "source": [
        "#description des données\r\n",
        "print(df.describe(include='all'))"
      ],
      "execution_count": 40,
      "outputs": [
        {
          "output_type": "stream",
          "text": [
            "                0           1\n",
            "count   63.000000   63.000000\n",
            "mean    22.904762   98.187302\n",
            "std     23.351946   87.327553\n",
            "min      0.000000    0.000000\n",
            "25%      7.500000   38.850000\n",
            "50%     14.000000   73.400000\n",
            "75%     29.000000  140.000000\n",
            "max    124.000000  422.200000\n"
          ],
          "name": "stdout"
        }
      ]
    },
    {
      "cell_type": "code",
      "metadata": {
        "colab": {
          "base_uri": "https://localhost:8080/"
        },
        "id": "ZBPWMzJL9vyK",
        "outputId": "ff8a6182-ca8d-42d9-c6bf-671f6725f193"
      },
      "source": [
        "#informations sur les données\r\n",
        "print(df.info())"
      ],
      "execution_count": 41,
      "outputs": [
        {
          "output_type": "stream",
          "text": [
            "<class 'pandas.core.frame.DataFrame'>\n",
            "RangeIndex: 63 entries, 0 to 62\n",
            "Data columns (total 2 columns):\n",
            " #   Column  Non-Null Count  Dtype  \n",
            "---  ------  --------------  -----  \n",
            " 0   0       63 non-null     int64  \n",
            " 1   1       63 non-null     float64\n",
            "dtypes: float64(1), int64(1)\n",
            "memory usage: 1.1 KB\n",
            "None\n"
          ],
          "name": "stdout"
        }
      ]
    },
    {
      "cell_type": "code",
      "metadata": {
        "colab": {
          "base_uri": "https://localhost:8080/"
        },
        "id": "WJ5KkKeV-uiS",
        "outputId": "9820fdc7-1bac-4441-f13a-6acd05147b58"
      },
      "source": [
        "# summarize shape\r\n",
        "print(df.shape)"
      ],
      "execution_count": 42,
      "outputs": [
        {
          "output_type": "stream",
          "text": [
            "(63, 2)\n"
          ],
          "name": "stdout"
        }
      ]
    },
    {
      "cell_type": "code",
      "metadata": {
        "colab": {
          "base_uri": "https://localhost:8080/"
        },
        "id": "xopdRtwI-8f3",
        "outputId": "436eca07-6e91-49b1-8cc9-392864317a3e"
      },
      "source": [
        "# show summary statistics\r\n",
        "print(df.describe())"
      ],
      "execution_count": 43,
      "outputs": [
        {
          "output_type": "stream",
          "text": [
            "                0           1\n",
            "count   63.000000   63.000000\n",
            "mean    22.904762   98.187302\n",
            "std     23.351946   87.327553\n",
            "min      0.000000    0.000000\n",
            "25%      7.500000   38.850000\n",
            "50%     14.000000   73.400000\n",
            "75%     29.000000  140.000000\n",
            "max    124.000000  422.200000\n"
          ],
          "name": "stdout"
        }
      ]
    },
    {
      "cell_type": "code",
      "metadata": {
        "colab": {
          "base_uri": "https://localhost:8080/",
          "height": 281
        },
        "id": "Hq37NtFW_E4g",
        "outputId": "d718ffd0-e729-4d18-c4c4-b9fe27ca1220"
      },
      "source": [
        "# plot histograms\r\n",
        "df.hist()\r\n",
        "pyplot.show()"
      ],
      "execution_count": 44,
      "outputs": [
        {
          "output_type": "display_data",
          "data": {
            "image/png": "[encoded data removed]",
            "text/plain": [
              "<Figure size 432x288 with 2 Axes>"
            ]
          },
          "metadata": {
            "tags": [],
            "needs_background": "light"
          }
        }
      ]
    },
    {
      "cell_type": "code",
      "metadata": {
        "id": "_o8gyWprKfxQ"
      },
      "source": [
        "\r\n",
        "# split into input and output columns\r\n",
        "X, y = df.values[:, :-1], df.values[:, -1]"
      ],
      "execution_count": 45,
      "outputs": []
    },
    {
      "cell_type": "code",
      "metadata": {
        "id": "dm293nB-DUOD"
      },
      "source": [
        "# split into train and test datasets\r\n",
        "# split into train and test datasets\r\n",
        "X_train, X_test, y_train, y_test = train_test_split(X, y, test_size=0.33)"
      ],
      "execution_count": 46,
      "outputs": []
    },
    {
      "cell_type": "code",
      "metadata": {
        "id": "y4URD3kjD7cj"
      },
      "source": [
        "# determine the number of input features\r\n",
        "n_features = X.shape[1]"
      ],
      "execution_count": 47,
      "outputs": []
    },
    {
      "cell_type": "code",
      "metadata": {
        "id": "kQpA4vglEBY4"
      },
      "source": [
        "# define model\r\n",
        "model = Sequential()\r\n",
        "model.add(Dense(10, activation='relu', kernel_initializer='he_normal', input_shape=(n_features,)))\r\n",
        "model.add(Dense(1))"
      ],
      "execution_count": 48,
      "outputs": []
    },
    {
      "cell_type": "code",
      "metadata": {
        "id": "lVsOQDcpEIh6"
      },
      "source": [
        "\r\n",
        "# compile the model\r\n",
        "model.compile(optimizer='adam', loss='mse')"
      ],
      "execution_count": 49,
      "outputs": []
    },
    {
      "cell_type": "code",
      "metadata": {
        "id": "xDht6gE_EtKd"
      },
      "source": [
        "# fit the model\r\n",
        "history = model.fit(X_train, y_train, epochs=100, batch_size=8, verbose=0, validation_data=(X_test,y_test))"
      ],
      "execution_count": 50,
      "outputs": []
    },
    {
      "cell_type": "code",
      "metadata": {
        "colab": {
          "base_uri": "https://localhost:8080/"
        },
        "id": "xcq4EKq2HArI",
        "outputId": "5e9fa0ea-8706-41d7-acdc-f0eb279d7156"
      },
      "source": [
        "# predict test set\r\n",
        "yhat = model.predict(X_test)\r\n",
        "# evaluate predictions\r\n",
        "score = mean_absolute_error(y_test, yhat)\r\n",
        "print('MAE: %.3f' % score)"
      ],
      "execution_count": 51,
      "outputs": [
        {
          "output_type": "stream",
          "text": [
            "MAE: 30.207\n"
          ],
          "name": "stdout"
        }
      ]
    },
    {
      "cell_type": "code",
      "metadata": {
        "colab": {
          "base_uri": "https://localhost:8080/",
          "height": 295
        },
        "id": "UE4GGhudFa1_",
        "outputId": "d903a292-33f7-4b31-eaa7-495c972887d5"
      },
      "source": [
        "# plot learning curves\r\n",
        "pyplot.title('Learning Curves')\r\n",
        "pyplot.xlabel('Epoch')\r\n",
        "pyplot.ylabel('Mean Squared Error')\r\n",
        "pyplot.plot(history.history['loss'], label='train')\r\n",
        "pyplot.plot(history.history['val_loss'], label='val')\r\n",
        "pyplot.legend()\r\n",
        "pyplot.show()"
      ],
      "execution_count": 52,
      "outputs": [
        {
          "output_type": "display_data",
          "data": {
            "image/png": "[encoded data removed]",
            "text/plain": [
              "<Figure size 432x288 with 1 Axes>"
            ]
          },
          "metadata": {
            "tags": [],
            "needs_background": "light"
          }
        }
      ]
    },
    {
      "cell_type": "code",
      "metadata": {
        "id": "2S6ar-unGZu9"
      },
      "source": [
        "# define model\r\n",
        "model = Sequential()\r\n",
        "model.add(Dense(10, activation='relu', kernel_initializer='he_normal', input_shape=(n_features,)))\r\n",
        "model.add(Dense(8, activation='relu', kernel_initializer='he_normal'))\r\n",
        "model.add(Dense(1))\r\n",
        "# compile the model\r\n",
        "model.compile(optimizer='adam', loss='mse')\r\n",
        "# fit the model\r\n",
        "history = model.fit(X_train, y_train, epochs=200, batch_size=8, verbose=0, validation_data=(X_test,y_test))\r\n"
      ],
      "execution_count": 53,
      "outputs": []
    },
    {
      "cell_type": "code",
      "metadata": {
        "colab": {
          "base_uri": "https://localhost:8080/"
        },
        "id": "YztnXYE1LCcb",
        "outputId": "b8cce712-5856-4e6c-e897-7b5abbc9cf7c"
      },
      "source": [
        "# predict test set\r\n",
        "yhat = model.predict(X_test)\r\n",
        "# evaluate predictions\r\n",
        "score = mean_absolute_error(y_test, yhat)\r\n",
        "print('MAE: %.3f' % score)"
      ],
      "execution_count": 54,
      "outputs": [
        {
          "output_type": "stream",
          "text": [
            "MAE: 19.247\n"
          ],
          "name": "stdout"
        }
      ]
    },
    {
      "cell_type": "code",
      "metadata": {
        "colab": {
          "base_uri": "https://localhost:8080/",
          "height": 295
        },
        "id": "guflBbQZLME_",
        "outputId": "d7291c07-bcc9-4a05-8666-703be65a17c0"
      },
      "source": [
        "# plot learning curves\r\n",
        "pyplot.title('Learning Curves')\r\n",
        "pyplot.xlabel('Epoch')\r\n",
        "pyplot.ylabel('Mean Squared Error')\r\n",
        "pyplot.plot(history.history['loss'], label='train')\r\n",
        "pyplot.plot(history.history['val_loss'], label='val')\r\n",
        "pyplot.legend()\r\n",
        "pyplot.show()"
      ],
      "execution_count": 55,
      "outputs": [
        {
          "output_type": "display_data",
          "data": {
            "image/png": "[encoded data removed]",
            "text/plain": [
              "<Figure size 432x288 with 1 Axes>"
            ]
          },
          "metadata": {
            "tags": [],
            "needs_background": "light"
          }
        }
      ]
    },
    {
      "cell_type": "code",
      "metadata": {
        "id": "_xoSbzBDLpnS"
      },
      "source": [
        "\r\n",
        "# ensure that the target variable is a 2d array\r\n",
        "y_train, y_test = y_train.reshape((len(y_train),1)), y_test.reshape((len(y_test),1))"
      ],
      "execution_count": 56,
      "outputs": []
    },
    {
      "cell_type": "markdown",
      "metadata": {
        "id": "mN-iIIXpT2W2"
      },
      "source": [
        "Next, we can apply a PowerTransformer to the input and target variables.\r\n",
        "\r\n",
        "This can be achieved by first fitting the transform on the training data, then transforming the train and test sets.\r\n",
        "\r\n",
        "This process is applied separately for the input and output variables to avoid data leakage."
      ]
    },
    {
      "cell_type": "code",
      "metadata": {
        "id": "GO3BbjEHTvjx"
      },
      "source": [
        "# power transform input data\r\n",
        "pt1 = PowerTransformer()\r\n",
        "pt1.fit(X_train)\r\n",
        "X_train = pt1.transform(X_train)\r\n",
        "X_test = pt1.transform(X_test)\r\n",
        "# power transform output data\r\n",
        "pt2 = PowerTransformer()\r\n",
        "pt2.fit(y_train)\r\n",
        "y_train = pt2.transform(y_train)\r\n",
        "y_test = pt2.transform(y_test)"
      ],
      "execution_count": 57,
      "outputs": []
    },
    {
      "cell_type": "markdown",
      "metadata": {
        "id": "UHMN20R8UvDm"
      },
      "source": [
        "The data is then used to fit the model.\r\n",
        "\r\n",
        "The transform can then be inverted on the predictions made by the model and the expected target values from the test set and we can calculate the MAE in the correct scale as before"
      ]
    },
    {
      "cell_type": "code",
      "metadata": {
        "id": "Kf1gobiMUz3H"
      },
      "source": [
        "\r\n",
        "# inverse transforms on target variable\r\n",
        "y_test = pt2.inverse_transform(y_test)\r\n",
        "yhat = pt2.inverse_transform(yhat)"
      ],
      "execution_count": 58,
      "outputs": []
    },
    {
      "cell_type": "code",
      "metadata": {
        "colab": {
          "base_uri": "https://localhost:8080/"
        },
        "id": "jtFA0ANzVC5S",
        "outputId": "5819cdca-1a1b-4025-b75f-9f96cf56a066"
      },
      "source": [
        "# evaluate predictions\r\n",
        "score = mean_absolute_error(y_test, yhat)\r\n",
        "print('MAE: %.3f' % score)"
      ],
      "execution_count": 59,
      "outputs": [
        {
          "output_type": "stream",
          "text": [
            "MAE: 1235621.227\n"
          ],
          "name": "stdout"
        }
      ]
    },
    {
      "cell_type": "code",
      "metadata": {
        "colab": {
          "base_uri": "https://localhost:8080/",
          "height": 295
        },
        "id": "dRYBNjJYVat9",
        "outputId": "ace1b1c8-7e5e-472d-8cab-d278a5df4548"
      },
      "source": [
        "# plot learning curves\r\n",
        "pyplot.title('Learning Curves')\r\n",
        "pyplot.xlabel('Epoch')\r\n",
        "pyplot.ylabel('Mean Squared Error')\r\n",
        "pyplot.plot(history.history['loss'], label='train')\r\n",
        "pyplot.plot(history.history['val_loss'], label='val')\r\n",
        "pyplot.legend()\r\n",
        "pyplot.show()"
      ],
      "execution_count": 60,
      "outputs": [
        {
          "output_type": "display_data",
          "data": {
            "image/png": "[encoded data removed]",
            "text/plain": [
              "<Figure size 432x288 with 1 Axes>"
            ]
          },
          "metadata": {
            "tags": [],
            "needs_background": "light"
          }
        }
      ]
    },
    {
      "cell_type": "markdown",
      "metadata": {
        "id": "sDhkgwx7WVDa"
      },
      "source": [
        "\r\n",
        "Evaluating and Tuning MLP Models\r\n",
        "The k-fold cross-validation procedure can provide a more reliable estimate of MLP performance, although it can be very slow.\r\n",
        "\r\n",
        "This is because k models must be fit and evaluated. This is not a problem when the dataset size is small, such as the auto insurance dataset.\r\n",
        "\r\n",
        "We can use the KFold class to create the splits and enumerate each fold manually, fit the model, evaluate it, and then report the mean of the evaluation scores at the end of the procedure."
      ]
    },
    {
      "cell_type": "code",
      "metadata": {
        "id": "njlVOFc6WkJ8"
      },
      "source": [
        "# prepare cross validation\r\n",
        "kfold = KFold(10)"
      ],
      "execution_count": 62,
      "outputs": []
    },
    {
      "cell_type": "code",
      "metadata": {
        "colab": {
          "base_uri": "https://localhost:8080/"
        },
        "id": "Il5vlk2kYBIk",
        "outputId": "5c6f7923-28c3-494e-94f1-fdc0448b8537"
      },
      "source": [
        "# enumerate splits\r\n",
        "scores = list()\r\n",
        "for train_ix, test_ix in kfold.split(X, y):\r\n",
        "\t# fit and evaluate the model...\r\n",
        "\t...\r\n",
        "...\r\n",
        "# summarize all scores\r\n",
        "print('Mean MAE: %.3f (%.3f)' % (mean(scores), std(scores)))"
      ],
      "execution_count": 70,
      "outputs": [
        {
          "output_type": "stream",
          "text": [
            "Mean MAE: nan (nan)\n"
          ],
          "name": "stdout"
        },
        {
          "output_type": "stream",
          "text": [
            "/usr/local/lib/python3.6/dist-packages/numpy/core/fromnumeric.py:3373: RuntimeWarning: Mean of empty slice.\n",
            "  out=out, **kwargs)\n",
            "/usr/local/lib/python3.6/dist-packages/numpy/core/_methods.py:170: RuntimeWarning: invalid value encountered in double_scalars\n",
            "  ret = ret.dtype.type(ret / rcount)\n",
            "/usr/local/lib/python3.6/dist-packages/numpy/core/_methods.py:234: RuntimeWarning: Degrees of freedom <= 0 for slice\n",
            "  keepdims=keepdims)\n",
            "/usr/local/lib/python3.6/dist-packages/numpy/core/_methods.py:195: RuntimeWarning: invalid value encountered in true_divide\n",
            "  arrmean, rcount, out=arrmean, casting='unsafe', subok=False)\n",
            "/usr/local/lib/python3.6/dist-packages/numpy/core/_methods.py:226: RuntimeWarning: invalid value encountered in double_scalars\n",
            "  ret = ret.dtype.type(ret / rcount)\n"
          ],
          "name": "stderr"
        }
      ]
    },
    {
      "cell_type": "markdown",
      "metadata": {
        "id": "rvRrdxwBcKch"
      },
      "source": [
        "Nous pouvons utiliser ce cadre pour développer une estimation fiable des performances du modèle MLP avec une gamme de différentes préparations de données, architectures de modèles et configurations d’apprentissage.\r\n",
        "\r\n",
        "Il est important que nous avons d’abord développé une compréhension de la dynamique d’apprentissage du modèle sur l’ensemble de données dans la section précédente avant d’utiliser k-fold cross-validation pour estimer les performances. Si nous commetons à accorder le modèle directement, nous pourrions obtenir de bons résultats, mais sinon, nous n’aurions peut-être aucune idée de pourquoi, par exemple, que le modèle était terminé ou en cours d’ajustement.\r\n",
        "\r\n",
        "Si nous faisons de grands changements au modèle à nouveau, c’est une bonne idée de revenir en arrière et de confirmer que le modèle converge de façon appropriée.\r\n",
        "\r\n",
        "L’exemple complet de ce cadre pour évaluer le modèle MLP de base de la section précédente est énuméré ci-dessous."
      ]
    },
    {
      "cell_type": "code",
      "metadata": {
        "colab": {
          "base_uri": "https://localhost:8080/"
        },
        "id": "dUwlwBhScgC1",
        "outputId": "ada4bc7a-8711-4894-eede-19e541326067"
      },
      "source": [
        "from numpy import mean\r\n",
        "from numpy import std\r\n",
        "from pandas import read_csv\r\n",
        "from sklearn.model_selection import KFold\r\n",
        "from sklearn.metrics import mean_absolute_error\r\n",
        "from tensorflow.keras import Sequential\r\n",
        "from tensorflow.keras.layers import Dense\r\n",
        "from matplotlib import pyplot\r\n",
        "# load the dataset\r\n",
        "path = 'https://raw.githubusercontent.com/jbrownlee/Datasets/master/auto-insurance.csv'\r\n",
        "df = read_csv(path, header=None)\r\n",
        "# split into input and output columns\r\n",
        "X, y = df.values[:, :-1], df.values[:, -1]\r\n",
        "# prepare cross validation\r\n",
        "kfold = KFold(10)\r\n",
        "# enumerate splits\r\n",
        "scores = list()\r\n",
        "for train_ix, test_ix in kfold.split(X, y):\r\n",
        "\t# split data\r\n",
        "\tX_train, X_test, y_train, y_test = X[train_ix], X[test_ix], y[train_ix], y[test_ix]\r\n",
        "\t# determine the number of input features\r\n",
        "\tn_features = X.shape[1]\r\n",
        "\t# define model\r\n",
        "\tmodel = Sequential()\r\n",
        "\tmodel.add(Dense(10, activation='relu', kernel_initializer='he_normal', input_shape=(n_features,)))\r\n",
        "\tmodel.add(Dense(1))\r\n",
        "\t# compile the model\r\n",
        "\tmodel.compile(optimizer='adam', loss='mse')\r\n",
        "\t# fit the model\r\n",
        "\tmodel.fit(X_train, y_train, epochs=100, batch_size=8, verbose=0)\r\n",
        "\t# predict test set\r\n",
        "\tyhat = model.predict(X_test)\r\n",
        "\t# evaluate predictions\r\n",
        "\tscore = mean_absolute_error(y_test, yhat)\r\n",
        "\tprint('>%.3f' % score)\r\n",
        "\tscores.append(score)\r\n",
        "# summarize all scores\r\n",
        "print('Mean MAE: %.3f (%.3f)' % (mean(scores), std(scores)))"
      ],
      "execution_count": 72,
      "outputs": [
        {
          "output_type": "stream",
          "text": [
            "WARNING:tensorflow:11 out of the last 11 calls to <function Model.make_predict_function.<locals>.predict_function at 0x7f5a4fb961e0> triggered tf.function retracing. Tracing is expensive and the excessive number of tracings could be due to (1) creating @tf.function repeatedly in a loop, (2) passing tensors with different shapes, (3) passing Python objects instead of tensors. For (1), please define your @tf.function outside of the loop. For (2), @tf.function has experimental_relax_shapes=True option that relaxes argument shapes that can avoid unnecessary retracing. For (3), please refer to https://www.tensorflow.org/guide/function#controlling_retracing and https://www.tensorflow.org/api_docs/python/tf/function for  more details.\n",
            ">36.257\n",
            "WARNING:tensorflow:11 out of the last 11 calls to <function Model.make_predict_function.<locals>.predict_function at 0x7f5a54d4fe18> triggered tf.function retracing. Tracing is expensive and the excessive number of tracings could be due to (1) creating @tf.function repeatedly in a loop, (2) passing tensors with different shapes, (3) passing Python objects instead of tensors. For (1), please define your @tf.function outside of the loop. For (2), @tf.function has experimental_relax_shapes=True option that relaxes argument shapes that can avoid unnecessary retracing. For (3), please refer to https://www.tensorflow.org/guide/function#controlling_retracing and https://www.tensorflow.org/api_docs/python/tf/function for  more details.\n",
            ">40.130\n",
            "WARNING:tensorflow:11 out of the last 11 calls to <function Model.make_predict_function.<locals>.predict_function at 0x7f5a54d4f6a8> triggered tf.function retracing. Tracing is expensive and the excessive number of tracings could be due to (1) creating @tf.function repeatedly in a loop, (2) passing tensors with different shapes, (3) passing Python objects instead of tensors. For (1), please define your @tf.function outside of the loop. For (2), @tf.function has experimental_relax_shapes=True option that relaxes argument shapes that can avoid unnecessary retracing. For (3), please refer to https://www.tensorflow.org/guide/function#controlling_retracing and https://www.tensorflow.org/api_docs/python/tf/function for  more details.\n",
            ">26.144\n",
            "WARNING:tensorflow:11 out of the last 11 calls to <function Model.make_predict_function.<locals>.predict_function at 0x7f5a4fa0f8c8> triggered tf.function retracing. Tracing is expensive and the excessive number of tracings could be due to (1) creating @tf.function repeatedly in a loop, (2) passing tensors with different shapes, (3) passing Python objects instead of tensors. For (1), please define your @tf.function outside of the loop. For (2), @tf.function has experimental_relax_shapes=True option that relaxes argument shapes that can avoid unnecessary retracing. For (3), please refer to https://www.tensorflow.org/guide/function#controlling_retracing and https://www.tensorflow.org/api_docs/python/tf/function for  more details.\n",
            ">35.374\n",
            "WARNING:tensorflow:11 out of the last 11 calls to <function Model.make_predict_function.<locals>.predict_function at 0x7f5a554c79d8> triggered tf.function retracing. Tracing is expensive and the excessive number of tracings could be due to (1) creating @tf.function repeatedly in a loop, (2) passing tensors with different shapes, (3) passing Python objects instead of tensors. For (1), please define your @tf.function outside of the loop. For (2), @tf.function has experimental_relax_shapes=True option that relaxes argument shapes that can avoid unnecessary retracing. For (3), please refer to https://www.tensorflow.org/guide/function#controlling_retracing and https://www.tensorflow.org/api_docs/python/tf/function for  more details.\n",
            ">19.444\n",
            "WARNING:tensorflow:11 out of the last 11 calls to <function Model.make_predict_function.<locals>.predict_function at 0x7f5a5536a950> triggered tf.function retracing. Tracing is expensive and the excessive number of tracings could be due to (1) creating @tf.function repeatedly in a loop, (2) passing tensors with different shapes, (3) passing Python objects instead of tensors. For (1), please define your @tf.function outside of the loop. For (2), @tf.function has experimental_relax_shapes=True option that relaxes argument shapes that can avoid unnecessary retracing. For (3), please refer to https://www.tensorflow.org/guide/function#controlling_retracing and https://www.tensorflow.org/api_docs/python/tf/function for  more details.\n",
            ">22.828\n",
            "WARNING:tensorflow:11 out of the last 11 calls to <function Model.make_predict_function.<locals>.predict_function at 0x7f5a58c71bf8> triggered tf.function retracing. Tracing is expensive and the excessive number of tracings could be due to (1) creating @tf.function repeatedly in a loop, (2) passing tensors with different shapes, (3) passing Python objects instead of tensors. For (1), please define your @tf.function outside of the loop. For (2), @tf.function has experimental_relax_shapes=True option that relaxes argument shapes that can avoid unnecessary retracing. For (3), please refer to https://www.tensorflow.org/guide/function#controlling_retracing and https://www.tensorflow.org/api_docs/python/tf/function for  more details.\n",
            ">32.982\n",
            "WARNING:tensorflow:11 out of the last 11 calls to <function Model.make_predict_function.<locals>.predict_function at 0x7f5a52ce32f0> triggered tf.function retracing. Tracing is expensive and the excessive number of tracings could be due to (1) creating @tf.function repeatedly in a loop, (2) passing tensors with different shapes, (3) passing Python objects instead of tensors. For (1), please define your @tf.function outside of the loop. For (2), @tf.function has experimental_relax_shapes=True option that relaxes argument shapes that can avoid unnecessary retracing. For (3), please refer to https://www.tensorflow.org/guide/function#controlling_retracing and https://www.tensorflow.org/api_docs/python/tf/function for  more details.\n",
            ">40.338\n",
            "WARNING:tensorflow:11 out of the last 11 calls to <function Model.make_predict_function.<locals>.predict_function at 0x7f5a554f3268> triggered tf.function retracing. Tracing is expensive and the excessive number of tracings could be due to (1) creating @tf.function repeatedly in a loop, (2) passing tensors with different shapes, (3) passing Python objects instead of tensors. For (1), please define your @tf.function outside of the loop. For (2), @tf.function has experimental_relax_shapes=True option that relaxes argument shapes that can avoid unnecessary retracing. For (3), please refer to https://www.tensorflow.org/guide/function#controlling_retracing and https://www.tensorflow.org/api_docs/python/tf/function for  more details.\n",
            ">35.157\n",
            "WARNING:tensorflow:11 out of the last 11 calls to <function Model.make_predict_function.<locals>.predict_function at 0x7f5a54d4f048> triggered tf.function retracing. Tracing is expensive and the excessive number of tracings could be due to (1) creating @tf.function repeatedly in a loop, (2) passing tensors with different shapes, (3) passing Python objects instead of tensors. For (1), please define your @tf.function outside of the loop. For (2), @tf.function has experimental_relax_shapes=True option that relaxes argument shapes that can avoid unnecessary retracing. For (3), please refer to https://www.tensorflow.org/guide/function#controlling_retracing and https://www.tensorflow.org/api_docs/python/tf/function for  more details.\n",
            ">79.284\n",
            "Mean MAE: 36.794 (15.678)\n"
          ],
          "name": "stdout"
        }
      ]
    },
    {
      "cell_type": "markdown",
      "metadata": {
        "id": "TKe2vb2rdD2Q"
      },
      "source": [
        "First, let’s try evaluating a deeper model on the raw dataset to see if it performs any better than a baseline model"
      ]
    },
    {
      "cell_type": "code",
      "metadata": {
        "colab": {
          "base_uri": "https://localhost:8080/"
        },
        "id": "zi61d2oRdFUk",
        "outputId": "4ac50b0e-e59b-4ef8-db43-b69a09b894c6"
      },
      "source": [
        "# define model\r\n",
        "model = Sequential()\r\n",
        "model.add(Dense(10, activation='relu', kernel_initializer='he_normal', input_shape=(n_features,)))\r\n",
        "model.add(Dense(8, activation='relu', kernel_initializer='he_normal'))\r\n",
        "model.add(Dense(1))\r\n",
        "# compile the model\r\n",
        "model.compile(optimizer='adam', loss='mse')\r\n",
        "# fit the model\r\n",
        "model.fit(X_train, y_train, epochs=200, batch_size=8, verbose=0)\r\n",
        "# predict test set\r\n",
        "yhat = model.predict(X_test)\r\n",
        "# evaluate predictions\r\n",
        "score = mean_absolute_error(y_test, yhat)\r\n",
        "print('>%.3f' % score)\r\n",
        "scores.append(score)"
      ],
      "execution_count": 74,
      "outputs": [
        {
          "output_type": "stream",
          "text": [
            "WARNING:tensorflow:11 out of the last 11 calls to <function Model.make_predict_function.<locals>.predict_function at 0x7f5a58c71ae8> triggered tf.function retracing. Tracing is expensive and the excessive number of tracings could be due to (1) creating @tf.function repeatedly in a loop, (2) passing tensors with different shapes, (3) passing Python objects instead of tensors. For (1), please define your @tf.function outside of the loop. For (2), @tf.function has experimental_relax_shapes=True option that relaxes argument shapes that can avoid unnecessary retracing. For (3), please refer to https://www.tensorflow.org/guide/function#controlling_retracing and https://www.tensorflow.org/api_docs/python/tf/function for  more details.\n",
            ">61.617\n"
          ],
          "name": "stdout"
        }
      ]
    },
    {
      "cell_type": "code",
      "metadata": {
        "colab": {
          "base_uri": "https://localhost:8080/"
        },
        "id": "_-ZV0A-id8OH",
        "outputId": "8f5f4886-be10-4be2-da83-7ba8e762cb4f"
      },
      "source": [
        "# summarize all scores\r\n",
        "print('Mean MAE: %.3f (%.3f)' % (mean(scores), std(scores)))"
      ],
      "execution_count": 75,
      "outputs": [
        {
          "output_type": "stream",
          "text": [
            "Mean MAE: 39.051 (16.565)\n"
          ],
          "name": "stdout"
        }
      ]
    },
    {
      "cell_type": "markdown",
      "metadata": {
        "id": "keYBAJ21ew1x"
      },
      "source": [
        "Ensuite, essayons d’utiliser le même modèle avec une transformation de puissance pour les variables d’entrée et de cible que nous l’avons fait dans la section précédente.\r\n",
        "\r\n",
        "L’exemple complet est énuméré ci-dessous"
      ]
    },
    {
      "cell_type": "code",
      "metadata": {
        "id": "Nl9Zt2E32vxb"
      },
      "source": [
        "# k-fold cross-validation of deeper model with data transforms\r\n",
        "from numpy import mean\r\n",
        "from numpy import std\r\n",
        "from pandas import read_csv\r\n",
        "from sklearn.model_selection import KFold\r\n",
        "from sklearn.metrics import mean_absolute_error\r\n",
        "from sklearn.preprocessing import PowerTransformer\r\n",
        "from tensorflow.keras import Sequential\r\n",
        "from tensorflow.keras.layers import Dense\r\n",
        "from matplotlib import pyplot"
      ],
      "execution_count": 76,
      "outputs": []
    },
    {
      "cell_type": "code",
      "metadata": {
        "id": "bJMEOXPBfSrz"
      },
      "source": [
        "# load the dataset\r\n",
        "path = 'https://raw.githubusercontent.com/jbrownlee/Datasets/master/auto-insurance.csv'\r\n",
        "df = read_csv(path, header=None)\r\n",
        "# split into input and output columns\r\n",
        "X, y = df.values[:, :-1], df.values[:, -1]\r\n",
        "# prepare cross validation\r\n",
        "kfold = KFold(10)"
      ],
      "execution_count": 77,
      "outputs": []
    },
    {
      "cell_type": "code",
      "metadata": {
        "colab": {
          "base_uri": "https://localhost:8080/"
        },
        "id": "REWy_lqTff79",
        "outputId": "adf18c4d-2009-4a4a-997a-e0464a82c3d1"
      },
      "source": [
        "# enumerate splits\r\n",
        "scores = list()\r\n",
        "for train_ix, test_ix in kfold.split(X, y):\r\n",
        "\t# split data\r\n",
        "\tX_train, X_test, y_train, y_test = X[train_ix], X[test_ix], y[train_ix], y[test_ix]\r\n",
        "\t# ensure target is a 2d array\r\n",
        "\ty_train, y_test = y_train.reshape((len(y_train),1)), y_test.reshape((len(y_test),1))\r\n",
        "\t# prepare input data\r\n",
        "\tpt1 = PowerTransformer()\r\n",
        "\tpt1.fit(X_train)\r\n",
        "\tX_train = pt1.transform(X_train)\r\n",
        "\tX_test = pt1.transform(X_test)\r\n",
        "\t# prepare target\r\n",
        "\tpt2 = PowerTransformer()\r\n",
        "\tpt2.fit(y_train)\r\n",
        "\ty_train = pt2.transform(y_train)\r\n",
        "\ty_test = pt2.transform(y_test)\r\n",
        "\t# determine the number of input features\r\n",
        "\tn_features = X.shape[1]\r\n",
        "\t# define model\r\n",
        "\tmodel = Sequential()\r\n",
        "\tmodel.add(Dense(10, activation='relu', kernel_initializer='he_normal', input_shape=(n_features,)))\r\n",
        "\tmodel.add(Dense(8, activation='relu', kernel_initializer='he_normal'))\r\n",
        "\tmodel.add(Dense(1))\r\n",
        "\t# compile the model\r\n",
        "\tmodel.compile(optimizer='adam', loss='mse')\r\n",
        "\t# fit the model\r\n",
        "\tmodel.fit(X_train, y_train, epochs=200, batch_size=8, verbose=0)\r\n",
        "\t# predict test set\r\n",
        "\tyhat = model.predict(X_test)\r\n",
        "\t# inverse transforms\r\n",
        "\ty_test = pt2.inverse_transform(y_test)\r\n",
        "\tyhat = pt2.inverse_transform(yhat)\r\n",
        "\t# evaluate predictions\r\n",
        "\tscore = mean_absolute_error(y_test, yhat)\r\n",
        "\tprint('>%.3f' % score)\r\n",
        "\tscores.append(score)"
      ],
      "execution_count": 78,
      "outputs": [
        {
          "output_type": "stream",
          "text": [
            "WARNING:tensorflow:11 out of the last 11 calls to <function Model.make_predict_function.<locals>.predict_function at 0x7f5a54e80c80> triggered tf.function retracing. Tracing is expensive and the excessive number of tracings could be due to (1) creating @tf.function repeatedly in a loop, (2) passing tensors with different shapes, (3) passing Python objects instead of tensors. For (1), please define your @tf.function outside of the loop. For (2), @tf.function has experimental_relax_shapes=True option that relaxes argument shapes that can avoid unnecessary retracing. For (3), please refer to https://www.tensorflow.org/guide/function#controlling_retracing and https://www.tensorflow.org/api_docs/python/tf/function for  more details.\n",
            ">42.325\n",
            "WARNING:tensorflow:11 out of the last 11 calls to <function Model.make_predict_function.<locals>.predict_function at 0x7f5a55002620> triggered tf.function retracing. Tracing is expensive and the excessive number of tracings could be due to (1) creating @tf.function repeatedly in a loop, (2) passing tensors with different shapes, (3) passing Python objects instead of tensors. For (1), please define your @tf.function outside of the loop. For (2), @tf.function has experimental_relax_shapes=True option that relaxes argument shapes that can avoid unnecessary retracing. For (3), please refer to https://www.tensorflow.org/guide/function#controlling_retracing and https://www.tensorflow.org/api_docs/python/tf/function for  more details.\n",
            ">31.558\n",
            "WARNING:tensorflow:11 out of the last 11 calls to <function Model.make_predict_function.<locals>.predict_function at 0x7f5a55218268> triggered tf.function retracing. Tracing is expensive and the excessive number of tracings could be due to (1) creating @tf.function repeatedly in a loop, (2) passing tensors with different shapes, (3) passing Python objects instead of tensors. For (1), please define your @tf.function outside of the loop. For (2), @tf.function has experimental_relax_shapes=True option that relaxes argument shapes that can avoid unnecessary retracing. For (3), please refer to https://www.tensorflow.org/guide/function#controlling_retracing and https://www.tensorflow.org/api_docs/python/tf/function for  more details.\n",
            ">16.806\n",
            "WARNING:tensorflow:11 out of the last 11 calls to <function Model.make_predict_function.<locals>.predict_function at 0x7f5a550a8268> triggered tf.function retracing. Tracing is expensive and the excessive number of tracings could be due to (1) creating @tf.function repeatedly in a loop, (2) passing tensors with different shapes, (3) passing Python objects instead of tensors. For (1), please define your @tf.function outside of the loop. For (2), @tf.function has experimental_relax_shapes=True option that relaxes argument shapes that can avoid unnecessary retracing. For (3), please refer to https://www.tensorflow.org/guide/function#controlling_retracing and https://www.tensorflow.org/api_docs/python/tf/function for  more details.\n",
            ">16.436\n",
            "WARNING:tensorflow:11 out of the last 11 calls to <function Model.make_predict_function.<locals>.predict_function at 0x7f5a55224598> triggered tf.function retracing. Tracing is expensive and the excessive number of tracings could be due to (1) creating @tf.function repeatedly in a loop, (2) passing tensors with different shapes, (3) passing Python objects instead of tensors. For (1), please define your @tf.function outside of the loop. For (2), @tf.function has experimental_relax_shapes=True option that relaxes argument shapes that can avoid unnecessary retracing. For (3), please refer to https://www.tensorflow.org/guide/function#controlling_retracing and https://www.tensorflow.org/api_docs/python/tf/function for  more details.\n",
            ">15.332\n",
            "WARNING:tensorflow:11 out of the last 11 calls to <function Model.make_predict_function.<locals>.predict_function at 0x7f5a54f51d08> triggered tf.function retracing. Tracing is expensive and the excessive number of tracings could be due to (1) creating @tf.function repeatedly in a loop, (2) passing tensors with different shapes, (3) passing Python objects instead of tensors. For (1), please define your @tf.function outside of the loop. For (2), @tf.function has experimental_relax_shapes=True option that relaxes argument shapes that can avoid unnecessary retracing. For (3), please refer to https://www.tensorflow.org/guide/function#controlling_retracing and https://www.tensorflow.org/api_docs/python/tf/function for  more details.\n",
            ">17.948\n",
            "WARNING:tensorflow:11 out of the last 11 calls to <function Model.make_predict_function.<locals>.predict_function at 0x7f5a54f51ea0> triggered tf.function retracing. Tracing is expensive and the excessive number of tracings could be due to (1) creating @tf.function repeatedly in a loop, (2) passing tensors with different shapes, (3) passing Python objects instead of tensors. For (1), please define your @tf.function outside of the loop. For (2), @tf.function has experimental_relax_shapes=True option that relaxes argument shapes that can avoid unnecessary retracing. For (3), please refer to https://www.tensorflow.org/guide/function#controlling_retracing and https://www.tensorflow.org/api_docs/python/tf/function for  more details.\n",
            ">22.096\n",
            "WARNING:tensorflow:11 out of the last 11 calls to <function Model.make_predict_function.<locals>.predict_function at 0x7f5a52d4e0d0> triggered tf.function retracing. Tracing is expensive and the excessive number of tracings could be due to (1) creating @tf.function repeatedly in a loop, (2) passing tensors with different shapes, (3) passing Python objects instead of tensors. For (1), please define your @tf.function outside of the loop. For (2), @tf.function has experimental_relax_shapes=True option that relaxes argument shapes that can avoid unnecessary retracing. For (3), please refer to https://www.tensorflow.org/guide/function#controlling_retracing and https://www.tensorflow.org/api_docs/python/tf/function for  more details.\n",
            ">47.253\n",
            "WARNING:tensorflow:11 out of the last 11 calls to <function Model.make_predict_function.<locals>.predict_function at 0x7f5a4fa83158> triggered tf.function retracing. Tracing is expensive and the excessive number of tracings could be due to (1) creating @tf.function repeatedly in a loop, (2) passing tensors with different shapes, (3) passing Python objects instead of tensors. For (1), please define your @tf.function outside of the loop. For (2), @tf.function has experimental_relax_shapes=True option that relaxes argument shapes that can avoid unnecessary retracing. For (3), please refer to https://www.tensorflow.org/guide/function#controlling_retracing and https://www.tensorflow.org/api_docs/python/tf/function for  more details.\n",
            ">34.578\n",
            "WARNING:tensorflow:11 out of the last 11 calls to <function Model.make_predict_function.<locals>.predict_function at 0x7f5a54f65ea0> triggered tf.function retracing. Tracing is expensive and the excessive number of tracings could be due to (1) creating @tf.function repeatedly in a loop, (2) passing tensors with different shapes, (3) passing Python objects instead of tensors. For (1), please define your @tf.function outside of the loop. For (2), @tf.function has experimental_relax_shapes=True option that relaxes argument shapes that can avoid unnecessary retracing. For (3), please refer to https://www.tensorflow.org/guide/function#controlling_retracing and https://www.tensorflow.org/api_docs/python/tf/function for  more details.\n",
            ">58.422\n"
          ],
          "name": "stdout"
        }
      ]
    },
    {
      "cell_type": "code",
      "metadata": {
        "colab": {
          "base_uri": "https://localhost:8080/"
        },
        "id": "MeuGCscofuUL",
        "outputId": "4c4d1ae2-c6d7-4389-d2f3-bbc5648f41fe"
      },
      "source": [
        "# summarize all scores\r\n",
        "print('Mean MAE: %.3f (%.3f)' % (mean(scores), std(scores)))"
      ],
      "execution_count": 79,
      "outputs": [
        {
          "output_type": "stream",
          "text": [
            "Mean MAE: 30.275 (14.356)\n"
          ],
          "name": "stdout"
        }
      ]
    },
    {
      "cell_type": "markdown",
      "metadata": {
        "id": "ed8GcNgBgDZo"
      },
      "source": [
        "Une autre transformation est de normaliser les variables d’entrée et de cible.\r\n",
        "\r\n",
        "Cela signifie mettre à l’échelle les valeurs de chaque variable à la plage [0, 1]. Nous pouvons y parvenir en utilisant le MinMaxScaler; par exemple :"
      ]
    },
    {
      "cell_type": "code",
      "metadata": {
        "id": "or_fEK3mgETC"
      },
      "source": [
        "# prepare input data\r\n",
        "pt1 = MinMaxScaler()\r\n",
        "pt1.fit(X_train)\r\n",
        "X_train = pt1.transform(X_train)\r\n",
        "X_test = pt1.transform(X_test)\r\n",
        "# prepare target\r\n",
        "pt2 = MinMaxScaler()\r\n",
        "pt2.fit(y_train)\r\n",
        "y_train = pt2.transform(y_train)\r\n",
        "y_test = pt2.transform(y_test)"
      ],
      "execution_count": 80,
      "outputs": []
    },
    {
      "cell_type": "markdown",
      "metadata": {
        "id": "SLzB8UgSgXvH"
      },
      "source": [
        "L’exemple complet de l’évaluation du MLP plus profond avec la normalisation des données est énuméré ci-dessous."
      ]
    },
    {
      "cell_type": "markdown",
      "metadata": {
        "id": "rNsuEzNUgXcY"
      },
      "source": [
        ""
      ]
    },
    {
      "cell_type": "code",
      "metadata": {
        "id": "2BhuG2yogUL6"
      },
      "source": [
        "\r\n",
        "from sklearn.preprocessing import MinMaxScaler"
      ],
      "execution_count": 81,
      "outputs": []
    },
    {
      "cell_type": "code",
      "metadata": {
        "id": "dtHI2nUNgkqy"
      },
      "source": [
        "# load the dataset\r\n",
        "path = 'https://raw.githubusercontent.com/jbrownlee/Datasets/master/auto-insurance.csv'\r\n",
        "df = read_csv(path, header=None)\r\n",
        "# split into input and output columns\r\n",
        "X, y = df.values[:, :-1], df.values[:, -1]\r\n",
        "# prepare cross validation\r\n",
        "kfold = KFold(10)"
      ],
      "execution_count": 82,
      "outputs": []
    },
    {
      "cell_type": "code",
      "metadata": {
        "colab": {
          "base_uri": "https://localhost:8080/"
        },
        "id": "ls_4bI_CgrAH",
        "outputId": "ffa9cabc-3461-4c64-e8ce-7d8afc1e96bf"
      },
      "source": [
        "# enumerate splits\r\n",
        "scores = list()\r\n",
        "for train_ix, test_ix in kfold.split(X, y):\r\n",
        "\t# split data\r\n",
        "\tX_train, X_test, y_train, y_test = X[train_ix], X[test_ix], y[train_ix], y[test_ix]\r\n",
        "\t# ensure target is a 2d array\r\n",
        "\ty_train, y_test = y_train.reshape((len(y_train),1)), y_test.reshape((len(y_test),1))\r\n",
        "\t# prepare input data\r\n",
        "\tpt1 = MinMaxScaler()\r\n",
        "\tpt1.fit(X_train)\r\n",
        "\tX_train = pt1.transform(X_train)\r\n",
        "\tX_test = pt1.transform(X_test)\r\n",
        "\t# prepare target\r\n",
        "\tpt2 = MinMaxScaler()\r\n",
        "\tpt2.fit(y_train)\r\n",
        "\ty_train = pt2.transform(y_train)\r\n",
        "\ty_test = pt2.transform(y_test)\r\n",
        "\t# determine the number of input features\r\n",
        "\tn_features = X.shape[1]\r\n",
        "\t# define model\r\n",
        "\tmodel = Sequential()\r\n",
        "\tmodel.add(Dense(10, activation='relu', kernel_initializer='he_normal', input_shape=(n_features,)))\r\n",
        "\tmodel.add(Dense(8, activation='relu', kernel_initializer='he_normal'))\r\n",
        "\tmodel.add(Dense(1))\r\n",
        "\t# compile the model\r\n",
        "\tmodel.compile(optimizer='adam', loss='mse')\r\n",
        "\t# fit the model\r\n",
        "\tmodel.fit(X_train, y_train, epochs=200, batch_size=8, verbose=0)\r\n",
        "\t# predict test set\r\n",
        "\tyhat = model.predict(X_test)\r\n",
        "\t# inverse transforms\r\n",
        "\ty_test = pt2.inverse_transform(y_test)\r\n",
        "\tyhat = pt2.inverse_transform(yhat)\r\n",
        "\t# evaluate predictions\r\n",
        "\tscore = mean_absolute_error(y_test, yhat)\r\n",
        "\tprint('>%.3f' % score)\r\n",
        "\tscores.append(score)"
      ],
      "execution_count": 83,
      "outputs": [
        {
          "output_type": "stream",
          "text": [
            "WARNING:tensorflow:11 out of the last 11 calls to <function Model.make_predict_function.<locals>.predict_function at 0x7f5a4fa83b70> triggered tf.function retracing. Tracing is expensive and the excessive number of tracings could be due to (1) creating @tf.function repeatedly in a loop, (2) passing tensors with different shapes, (3) passing Python objects instead of tensors. For (1), please define your @tf.function outside of the loop. For (2), @tf.function has experimental_relax_shapes=True option that relaxes argument shapes that can avoid unnecessary retracing. For (3), please refer to https://www.tensorflow.org/guide/function#controlling_retracing and https://www.tensorflow.org/api_docs/python/tf/function for  more details.\n",
            ">42.935\n",
            "WARNING:tensorflow:11 out of the last 11 calls to <function Model.make_predict_function.<locals>.predict_function at 0x7f5a54f656a8> triggered tf.function retracing. Tracing is expensive and the excessive number of tracings could be due to (1) creating @tf.function repeatedly in a loop, (2) passing tensors with different shapes, (3) passing Python objects instead of tensors. For (1), please define your @tf.function outside of the loop. For (2), @tf.function has experimental_relax_shapes=True option that relaxes argument shapes that can avoid unnecessary retracing. For (3), please refer to https://www.tensorflow.org/guide/function#controlling_retracing and https://www.tensorflow.org/api_docs/python/tf/function for  more details.\n",
            ">32.208\n",
            "WARNING:tensorflow:11 out of the last 11 calls to <function Model.make_predict_function.<locals>.predict_function at 0x7f5a4f8388c8> triggered tf.function retracing. Tracing is expensive and the excessive number of tracings could be due to (1) creating @tf.function repeatedly in a loop, (2) passing tensors with different shapes, (3) passing Python objects instead of tensors. For (1), please define your @tf.function outside of the loop. For (2), @tf.function has experimental_relax_shapes=True option that relaxes argument shapes that can avoid unnecessary retracing. For (3), please refer to https://www.tensorflow.org/guide/function#controlling_retracing and https://www.tensorflow.org/api_docs/python/tf/function for  more details.\n",
            ">15.301\n",
            "WARNING:tensorflow:11 out of the last 11 calls to <function Model.make_predict_function.<locals>.predict_function at 0x7f5a54ed4d08> triggered tf.function retracing. Tracing is expensive and the excessive number of tracings could be due to (1) creating @tf.function repeatedly in a loop, (2) passing tensors with different shapes, (3) passing Python objects instead of tensors. For (1), please define your @tf.function outside of the loop. For (2), @tf.function has experimental_relax_shapes=True option that relaxes argument shapes that can avoid unnecessary retracing. For (3), please refer to https://www.tensorflow.org/guide/function#controlling_retracing and https://www.tensorflow.org/api_docs/python/tf/function for  more details.\n",
            ">13.796\n",
            "WARNING:tensorflow:11 out of the last 11 calls to <function Model.make_predict_function.<locals>.predict_function at 0x7f5a54f510d0> triggered tf.function retracing. Tracing is expensive and the excessive number of tracings could be due to (1) creating @tf.function repeatedly in a loop, (2) passing tensors with different shapes, (3) passing Python objects instead of tensors. For (1), please define your @tf.function outside of the loop. For (2), @tf.function has experimental_relax_shapes=True option that relaxes argument shapes that can avoid unnecessary retracing. For (3), please refer to https://www.tensorflow.org/guide/function#controlling_retracing and https://www.tensorflow.org/api_docs/python/tf/function for  more details.\n",
            ">21.346\n",
            "WARNING:tensorflow:11 out of the last 11 calls to <function Model.make_predict_function.<locals>.predict_function at 0x7f5a55157c80> triggered tf.function retracing. Tracing is expensive and the excessive number of tracings could be due to (1) creating @tf.function repeatedly in a loop, (2) passing tensors with different shapes, (3) passing Python objects instead of tensors. For (1), please define your @tf.function outside of the loop. For (2), @tf.function has experimental_relax_shapes=True option that relaxes argument shapes that can avoid unnecessary retracing. For (3), please refer to https://www.tensorflow.org/guide/function#controlling_retracing and https://www.tensorflow.org/api_docs/python/tf/function for  more details.\n",
            ">16.927\n",
            "WARNING:tensorflow:11 out of the last 11 calls to <function Model.make_predict_function.<locals>.predict_function at 0x7f5a55207ae8> triggered tf.function retracing. Tracing is expensive and the excessive number of tracings could be due to (1) creating @tf.function repeatedly in a loop, (2) passing tensors with different shapes, (3) passing Python objects instead of tensors. For (1), please define your @tf.function outside of the loop. For (2), @tf.function has experimental_relax_shapes=True option that relaxes argument shapes that can avoid unnecessary retracing. For (3), please refer to https://www.tensorflow.org/guide/function#controlling_retracing and https://www.tensorflow.org/api_docs/python/tf/function for  more details.\n",
            ">60.900\n",
            "WARNING:tensorflow:11 out of the last 11 calls to <function Model.make_predict_function.<locals>.predict_function at 0x7f5a54ee3730> triggered tf.function retracing. Tracing is expensive and the excessive number of tracings could be due to (1) creating @tf.function repeatedly in a loop, (2) passing tensors with different shapes, (3) passing Python objects instead of tensors. For (1), please define your @tf.function outside of the loop. For (2), @tf.function has experimental_relax_shapes=True option that relaxes argument shapes that can avoid unnecessary retracing. For (3), please refer to https://www.tensorflow.org/guide/function#controlling_retracing and https://www.tensorflow.org/api_docs/python/tf/function for  more details.\n",
            ">47.672\n",
            "WARNING:tensorflow:11 out of the last 11 calls to <function Model.make_predict_function.<locals>.predict_function at 0x7f5a54e7b268> triggered tf.function retracing. Tracing is expensive and the excessive number of tracings could be due to (1) creating @tf.function repeatedly in a loop, (2) passing tensors with different shapes, (3) passing Python objects instead of tensors. For (1), please define your @tf.function outside of the loop. For (2), @tf.function has experimental_relax_shapes=True option that relaxes argument shapes that can avoid unnecessary retracing. For (3), please refer to https://www.tensorflow.org/guide/function#controlling_retracing and https://www.tensorflow.org/api_docs/python/tf/function for  more details.\n",
            ">32.864\n",
            "WARNING:tensorflow:11 out of the last 11 calls to <function Model.make_predict_function.<locals>.predict_function at 0x7f5a4f982730> triggered tf.function retracing. Tracing is expensive and the excessive number of tracings could be due to (1) creating @tf.function repeatedly in a loop, (2) passing tensors with different shapes, (3) passing Python objects instead of tensors. For (1), please define your @tf.function outside of the loop. For (2), @tf.function has experimental_relax_shapes=True option that relaxes argument shapes that can avoid unnecessary retracing. For (3), please refer to https://www.tensorflow.org/guide/function#controlling_retracing and https://www.tensorflow.org/api_docs/python/tf/function for  more details.\n",
            ">57.284\n"
          ],
          "name": "stdout"
        }
      ]
    },
    {
      "cell_type": "code",
      "metadata": {
        "colab": {
          "base_uri": "https://localhost:8080/"
        },
        "id": "kGw-a9segwcW",
        "outputId": "2da81814-7501-450f-8e6f-9a2cb709a5d1"
      },
      "source": [
        "# summarize all scores\r\n",
        "print('Mean MAE: %.3f (%.3f)' % (mean(scores), std(scores)))"
      ],
      "execution_count": 84,
      "outputs": [
        {
          "output_type": "stream",
          "text": [
            "Mean MAE: 34.123 (16.572)\n"
          ],
          "name": "stdout"
        }
      ]
    },
    {
      "cell_type": "markdown",
      "metadata": {
        "id": "77sHyd1BhGBL"
      },
      "source": [
        "Modèle final et faire des prédictions\r\n",
        "Une fois que nous choisissons une configuration de modèle, nous pouvons former un modèle final sur toutes les données disponibles et l’utiliser pour faire des prédictions sur de nouvelles données.\r\n",
        "\r\n",
        "Dans ce cas, nous utiliserons le modèle plus profond avec la normalisation des données comme modèle final.\r\n",
        "\r\n",
        "Cela signifie que si nous voulions enregistrer le modèle à déposer, nous aurions à enregistrer le modèle lui-même (pour faire des prédictions), la transformation pour les données d’entrée (pour les nouvelles données d’entrée), et la transformation pour la variable cible (pour les nouvelles prédictions).\r\n",
        "\r\n",
        "Nous pouvons préparer les données et adapter le modèle comme avant, bien que sur l’ensemble de l’ensemble de données au lieu d’un sous-ensemble de formation de l’ensemble de données."
      ]
    },
    {
      "cell_type": "code",
      "metadata": {
        "id": "coTC0uFJhb9K"
      },
      "source": [
        "from pandas import read_csv\r\n",
        "from sklearn.model_selection import KFold\r\n",
        "from sklearn.metrics import mean_absolute_error\r\n",
        "from sklearn.preprocessing import MinMaxScaler\r\n",
        "from tensorflow.keras import Sequential\r\n",
        "from tensorflow.keras.layers import Dense"
      ],
      "execution_count": 86,
      "outputs": []
    },
    {
      "cell_type": "code",
      "metadata": {
        "colab": {
          "base_uri": "https://localhost:8080/"
        },
        "id": "kErdyoTVhmEP",
        "outputId": "9af404f3-41d7-4f54-91f9-571558022ffd"
      },
      "source": [
        "# load the dataset\r\n",
        "path = 'https://raw.githubusercontent.com/jbrownlee/Datasets/master/auto-insurance.csv'\r\n",
        "df = read_csv(path, header=None)\r\n",
        "# split into input and output columns\r\n",
        "X, y = df.values[:, :-1], df.values[:, -1]\r\n",
        "# ensure target is a 2d array\r\n",
        "y = y.reshape((len(y),1))\r\n",
        "# prepare input data\r\n",
        "pt1 = MinMaxScaler()\r\n",
        "pt1.fit(X)\r\n",
        "X = pt1.transform(X)\r\n",
        "# prepare target\r\n",
        "pt2 = MinMaxScaler()\r\n",
        "pt2.fit(y)\r\n",
        "y = pt2.transform(y)\r\n",
        "# determine the number of input features\r\n",
        "n_features = X.shape[1]\r\n",
        "# define model\r\n",
        "model = Sequential()\r\n",
        "model.add(Dense(10, activation='relu', kernel_initializer='he_normal', input_shape=(n_features,)))\r\n",
        "model.add(Dense(8, activation='relu', kernel_initializer='he_normal'))\r\n",
        "model.add(Dense(1))\r\n",
        "# compile the model\r\n",
        "model.compile(optimizer='adam', loss='mse')\r\n",
        "# fit the model\r\n",
        "model.fit(X, y, epochs=200, batch_size=8, verbose=0)\r\n",
        "# define a row of new data\r\n",
        "row = [13]\r\n",
        "# transform the input data\r\n",
        "X_new = pt1.transform([row])\r\n",
        "# make prediction\r\n",
        "yhat = model.predict(X_new)\r\n",
        "# invert transform on prediction\r\n",
        "yhat = pt2.inverse_transform(yhat)\r\n",
        "# report prediction\r\n",
        "print('f(%s) = %.3f' % (row, yhat[0]))"
      ],
      "execution_count": 87,
      "outputs": [
        {
          "output_type": "stream",
          "text": [
            "WARNING:tensorflow:11 out of the last 11 calls to <function Model.make_predict_function.<locals>.predict_function at 0x7f5a4f8e2048> triggered tf.function retracing. Tracing is expensive and the excessive number of tracings could be due to (1) creating @tf.function repeatedly in a loop, (2) passing tensors with different shapes, (3) passing Python objects instead of tensors. For (1), please define your @tf.function outside of the loop. For (2), @tf.function has experimental_relax_shapes=True option that relaxes argument shapes that can avoid unnecessary retracing. For (3), please refer to https://www.tensorflow.org/guide/function#controlling_retracing and https://www.tensorflow.org/api_docs/python/tf/function for  more details.\n",
            "f([13]) = 65.731\n"
          ],
          "name": "stdout"
        }
      ]
    },
    {
      "cell_type": "code",
      "metadata": {
        "id": "3kSlgbkihr1q"
      },
      "source": [
        ""
      ],
      "execution_count": null,
      "outputs": []
    }
  ]
}